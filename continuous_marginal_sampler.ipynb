{
 "cells": [
  {
   "cell_type": "code",
   "execution_count": 1,
   "metadata": {},
   "outputs": [],
   "source": [
    "#!/usr/bin/env python\n",
    "# coding: utf-8\n",
    "\n",
    "# In[1]:\n",
    "\n",
    "\n",
    "import torch\n",
    "from torch import nn\n",
    "from torch import distributions\n",
    "from torch.nn.parameter import Parameter\n",
    "\n",
    "device = torch.device('cuda:0')\n",
    "torch.set_default_dtype(torch.float64)\n",
    "\n",
    "\n",
    "import numpy as np"
   ]
  },
  {
   "cell_type": "code",
   "execution_count": 2,
   "metadata": {},
   "outputs": [],
   "source": [
    "import matplotlib.pyplot as plt\n",
    "%matplotlib inline\n",
    "\n",
    "\n",
    "\n",
    "from pylab import rcParams\n",
    "rcParams['figure.figsize'] = 10, 8\n",
    "rcParams['figure.dpi'] = 300\n"
   ]
  },
  {
   "cell_type": "code",
   "execution_count": 3,
   "metadata": {},
   "outputs": [],
   "source": [
    "n = 100\n",
    "p = n\n",
    "d= 3"
   ]
  },
  {
   "cell_type": "code",
   "execution_count": 4,
   "metadata": {},
   "outputs": [],
   "source": [
    "# regression\n",
    "\n",
    "X = torch.randn(n,p).to(device)\n",
    "X/= X.std(0).reshape([1,p])\n",
    "\n",
    "w0 = torch.from_numpy(np.array([(np.random.normal(5,1,[d])).tolist() +[0]*(p-d)])).t().to(device)\n",
    "\n",
    "psi = (X@w0)[:,0]\n",
    "\n",
    "y = psi + torch.rand(n).to(device) * 0.1"
   ]
  },
  {
   "cell_type": "code",
   "execution_count": 5,
   "metadata": {},
   "outputs": [],
   "source": [
    "idx = np.round(np.linspace(0,n,num=(d+2))[1:(d+1)])\n",
    "\n",
    "idx\n",
    "\n",
    "X= np.eye(n)\n",
    "for i in range(n):\n",
    "    for j in range(0,i):\n",
    "        X[i,j]=np.abs(j-i)+1\n",
    "\n",
    "X[:,0]=1\n",
    "\n",
    "# X= np.random.normal(0,1,[n,n])\n",
    "\n",
    "X = torch.from_numpy(X.astype(np.float64)).to(device)"
   ]
  },
  {
   "cell_type": "code",
   "execution_count": 6,
   "metadata": {},
   "outputs": [],
   "source": [
    "# idx = np.round(np.linspace(0,n,num=(d+2))[1:(d+1)])\n",
    "\n",
    "# w0 = torch.zeros([p]).to(device) \n",
    "# w0[idx] = (torch.randn(d)+5).to(device)\n",
    "# psi = X@w0\n",
    "\n",
    "\n",
    "# y = psi + torch.rand(n).to(device) * 0.1\n"
   ]
  },
  {
   "cell_type": "code",
   "execution_count": 7,
   "metadata": {},
   "outputs": [
    {
     "data": {
      "text/plain": [
       "tensor([[0.],\n",
       "        [0.],\n",
       "        [0.]], device='cuda:0')"
      ]
     },
     "execution_count": 7,
     "metadata": {},
     "output_type": "execute_result"
    }
   ],
   "source": [
    "w0[idx]"
   ]
  },
  {
   "cell_type": "code",
   "execution_count": null,
   "metadata": {},
   "outputs": [],
   "source": []
  },
  {
   "cell_type": "code",
   "execution_count": 8,
   "metadata": {},
   "outputs": [],
   "source": [
    "y_np = y.cpu().numpy()"
   ]
  },
  {
   "cell_type": "code",
   "execution_count": 9,
   "metadata": {},
   "outputs": [
    {
     "data": {
      "text/plain": [
       "[<matplotlib.lines.Line2D at 0x7fe59c02e590>]"
      ]
     },
     "execution_count": 9,
     "metadata": {},
     "output_type": "execute_result"
    },
    {
     "data": {
      "image/png": "[encoded data removed]",
      "text/plain": [
       "<Figure size 432x288 with 1 Axes>"
      ]
     },
     "metadata": {
      "needs_background": "light"
     },
     "output_type": "display_data"
    }
   ],
   "source": [
    "plt.plot(y_np)"
   ]
  },
  {
   "cell_type": "code",
   "execution_count": null,
   "metadata": {},
   "outputs": [],
   "source": []
  },
  {
   "cell_type": "code",
   "execution_count": 10,
   "metadata": {},
   "outputs": [],
   "source": [
    "# a slightly different TMC"
   ]
  },
  {
   "cell_type": "code",
   "execution_count": 11,
   "metadata": {},
   "outputs": [],
   "source": [
    "K = 1\n",
    "latent_dim = 200"
   ]
  },
  {
   "cell_type": "code",
   "execution_count": 12,
   "metadata": {},
   "outputs": [],
   "source": [
    "n,p = X.shape\n",
    "\n",
    "X2infNorm= (X**2).sum(0).sqrt().max()\n",
    "\n",
    "total_param = p*2 + 6\n",
    "\n",
    "class RealNVP(nn.Module):\n",
    "    def __init__(self, nets, nett, mask):\n",
    "        super(RealNVP, self).__init__()\n",
    "\n",
    "        self.mask = nn.Parameter(mask, requires_grad=False).to(device)\n",
    "        self.t = torch.nn.ModuleList([nett() for _ in range(len(masks))])\n",
    "        self.s = torch.nn.ModuleList([nets() for _ in range(len(masks))])\n",
    "\n",
    "    def f(self, z):\n",
    "        x = z\n",
    "        log_det_J = z.new_zeros(z.shape[0])\n",
    "        for i in range(len(self.t)):\n",
    "            x_ = x*self.mask[i]\n",
    "            s = self.s[i](x_)*(1 - self.mask[i])\n",
    "            t = self.t[i](x_)*(1 - self.mask[i])\n",
    "            x = x_ + (1 - self.mask[i]) * (x * torch.exp(s) + t)\n",
    "            log_det_J += s.sum(dim=1)\n",
    "        return x, log_det_J\n",
    "\n",
    "    def f_inv(self, x):\n",
    "        log_det_J, z = x.new_zeros(x.shape[0]), x\n",
    "        for i in reversed(range(len(self.t))):\n",
    "            z_ = self.mask[i] * z\n",
    "            s = self.s[i](z_) * (1-self.mask[i])\n",
    "            t = self.t[i](z_) * (1-self.mask[i])\n",
    "            z = (1 - self.mask[i]) * (z - t) * torch.exp(-s) + z_\n",
    "            log_det_J -= s.sum(dim=1)\n",
    "        return z, log_det_J\n",
    "\n",
    "\n",
    "# creating invertible neural nets\n",
    "mask1 = [0,1]* int(total_param/2)\n",
    "mask2 = [1- x for x in mask1]\n",
    "\n",
    "nets = lambda: nn.Sequential(nn.Linear(total_param, latent_dim), nn.LeakyReLU(), nn.Linear(latent_dim, latent_dim), nn.LeakyReLU(), nn.Linear(latent_dim, total_param), nn.Tanh()).to(device)\n",
    "nett = lambda: nn.Sequential(nn.Linear(total_param, latent_dim), nn.LeakyReLU(), nn.Linear(latent_dim, latent_dim), nn.LeakyReLU(), nn.Linear(latent_dim, total_param)).to(device)\n",
    "masks = torch.from_numpy(np.array([mask1, mask2] * 4)).to(device)\n",
    "\n",
    "flow_list = [RealNVP(nets, nett, masks) for _ in range(K)]\n",
    "\n",
    "net_pi = lambda: nn.Sequential(nn.Linear(total_param, latent_dim), nn.LeakyReLU(), nn.Linear(latent_dim, latent_dim), \n",
    "                               nn.LeakyReLU(), nn.Linear(latent_dim, K), nn.Softmax(dim=1)).to(device)\n",
    "flow_pi = net_pi()\n"
   ]
  },
  {
   "cell_type": "code",
   "execution_count": 13,
   "metadata": {},
   "outputs": [],
   "source": [
    "softplus = torch.nn.functional.softplus\n",
    "\n",
    "# derivative of sigmoid:\n",
    "def deri_sigmoid(x,a=1):\n",
    "    return np.log(a) - a* x  - 2 * (softplus(- a* x))\n",
    "\n",
    "# derivative of softplus:\n",
    "def deri_softplus(x):\n",
    "    return x  - softplus(x)"
   ]
  },
  {
   "cell_type": "code",
   "execution_count": null,
   "metadata": {},
   "outputs": [],
   "source": []
  },
  {
   "cell_type": "code",
   "execution_count": null,
   "metadata": {},
   "outputs": [],
   "source": []
  },
  {
   "cell_type": "code",
   "execution_count": null,
   "metadata": {},
   "outputs": [],
   "source": []
  },
  {
   "cell_type": "code",
   "execution_count": null,
   "metadata": {},
   "outputs": [],
   "source": []
  },
  {
   "cell_type": "code",
   "execution_count": 14,
   "metadata": {},
   "outputs": [],
   "source": [
    "X2infNorm= (X**2).sum(0).sqrt().max()\n"
   ]
  },
  {
   "cell_type": "code",
   "execution_count": 15,
   "metadata": {},
   "outputs": [],
   "source": [
    "X2 = X.T@X\n",
    "Xy = X.T@y\n",
    "y2 = y.T@y"
   ]
  },
  {
   "cell_type": "code",
   "execution_count": null,
   "metadata": {},
   "outputs": [],
   "source": []
  },
  {
   "cell_type": "code",
   "execution_count": 16,
   "metadata": {},
   "outputs": [],
   "source": [
    "eta = torch.eig(X2)[0][0][0] +0.1"
   ]
  },
  {
   "cell_type": "code",
   "execution_count": 17,
   "metadata": {},
   "outputs": [],
   "source": [
    "etaX2 = torch.eye(p).to(device)*eta - X2"
   ]
  },
  {
   "cell_type": "code",
   "execution_count": null,
   "metadata": {},
   "outputs": [],
   "source": []
  },
  {
   "cell_type": "code",
   "execution_count": 18,
   "metadata": {},
   "outputs": [],
   "source": [
    "from torch.distributions import gumbel\n",
    "gum_rng= gumbel.Gumbel(0,1)\n",
    "\n",
    "def soft_multinomial_log(logPi):\n",
    "    lam = 0.1\n",
    "    return torch.softmax((logPi + gum_rng.sample(logPi.shape).to(device))/lam,0)"
   ]
  },
  {
   "cell_type": "code",
   "execution_count": null,
   "metadata": {},
   "outputs": [],
   "source": []
  },
  {
   "cell_type": "code",
   "execution_count": 19,
   "metadata": {},
   "outputs": [],
   "source": [
    "def loglik(theta, drawTheta = False):\n",
    "\n",
    "    logJac = 0\n",
    "    prior = 0\n",
    "\n",
    "    # parameter z:\n",
    "    idx = 0\n",
    "    idx1 = idx + p\n",
    "    z= theta[:,idx: idx1]\n",
    "\n",
    "    # latent w\n",
    "    idx = idx1\n",
    "    idx1 = idx + p\n",
    "    w = theta[:,idx: idx1]\n",
    "\n",
    "    # latent b:\n",
    "    idx = idx1\n",
    "    idx1 = idx + 1\n",
    "    b = torch.sigmoid(theta[:,idx:idx1].flatten())\n",
    "    logJac+= deri_sigmoid(theta[:,idx:idx1].flatten())\n",
    "\n",
    "    #  sigma2\n",
    "    idx = idx1\n",
    "    idx1 = idx + 1\n",
    "    sigma2 = softplus(theta[:,idx:idx1].flatten())\n",
    "    prior += -torch.log(sigma2) #- torch.log(1 + sigma2)   \n",
    "\n",
    "    # lam:\n",
    "    idx = idx1\n",
    "    idx1 = idx + 1\n",
    "    lam = torch.nn.functional.softplus(theta[:,idx:idx1].flatten())\n",
    "    prior += - torch.log(1 + lam**2 / sigma2) - 0.5* torch.log(sigma2)\n",
    "\n",
    "    # alpha:\n",
    "    idx = idx1\n",
    "    idx1 = idx + 1\n",
    "    alpha = torch.nn.functional.softplus(theta[:,idx:idx1].flatten())\n",
    "    prior += - torch.log(1 + alpha**2 / sigma2) - 0.5* torch.log(sigma2)\n",
    "\n",
    "    part1 = -(n+p)/2 * torch.log(sigma2) + torch.log(lam/alpha) - y2/2/sigma2 - ((etaX2@w.T )*w.T).sum(0)/2/sigma2\n",
    "\n",
    "    log_choice1 = (z*Xy - eta* (z*z)/2 + (w@etaX2)*z ) / sigma2.reshape([batch_size,1]) - z.abs() * (1/alpha+1/lam).reshape([batch_size,1])\n",
    "\n",
    "    w1 = torch.log(b/2) - torch.log(lam)\n",
    "    w2 = torch.log(1-b)\n",
    "\n",
    "    p1 = log_choice1 + w1.reshape([batch_size,1])\n",
    "    p2 = torch.repeat_interleave( w2.reshape([batch_size,1]),p,1)\n",
    "\n",
    "    part2 = torch.logsumexp(torch.stack([p1,p2]), dim=0).sum(1)\n",
    "\n",
    "    total_posterior = part1 +part2 + (prior+logJac).reshape([batch_size,1])\n",
    "    \n",
    "    theta = None\n",
    "    if(drawTheta):\n",
    "        c_tensor = soft_multinomial_log(torch.stack([p1,p2]))\n",
    "        theta = c_tensor[0] * z\n",
    "    \n",
    "\n",
    "    return [total_posterior,z, w, b,sigma2, lam, alpha, theta ]\n"
   ]
  },
  {
   "cell_type": "code",
   "execution_count": 20,
   "metadata": {},
   "outputs": [],
   "source": [
    "import copy\n",
    "\n",
    "opt_steps=10000"
   ]
  },
  {
   "cell_type": "code",
   "execution_count": 21,
   "metadata": {},
   "outputs": [],
   "source": [
    "batch_size=200"
   ]
  },
  {
   "cell_type": "code",
   "execution_count": 22,
   "metadata": {},
   "outputs": [],
   "source": [
    "def log_reference(z):\n",
    "    return  0\n",
    "\n",
    "para_list = list()\n",
    "\n",
    "for flow in flow_list:\n",
    "    para_list+= list(flow.parameters())\n",
    "\n",
    "para_list +=  list(flow_pi.parameters())\n",
    "\n",
    "best_loss = np.inf\n",
    "best_model= copy.deepcopy([flow_list , flow_pi])\n",
    "\n",
    "optimizer = torch.optim.Adam([p for p in para_list if p.requires_grad==True], lr=1e-4)"
   ]
  },
  {
   "cell_type": "code",
   "execution_count": null,
   "metadata": {},
   "outputs": [
    {
     "name": "stdout",
     "output_type": "stream",
     "text": [
      "99 107992.76523741863 0.3371601581081926\n",
      "sigma2:  52.82376115734116  lam:  3.052040813594717\n",
      "199 19790.51382960176 0.3036530736735702\n",
      "sigma2:  82.35728038443521  lam:  5.332098307185624\n",
      "299 8983.996471652823 0.2736069441782485\n",
      "sigma2:  101.66869687916488  lam:  3.346633520054802\n",
      "399 5323.720189789219 0.2220216266305936\n",
      "sigma2:  115.14678303900847  lam:  2.5900202813931044\n",
      "499 3754.8415550775544 0.20698549886539763\n",
      "sigma2:  127.08943713718662  lam:  2.264027937866001\n",
      "599 2955.6254839933163 0.17087451358534228\n",
      "sigma2:  138.21928550480544  lam:  1.9843415791347232\n",
      "699 2449.985473853312 0.1497194049591866\n",
      "sigma2:  149.6320189496567  lam:  1.6339937440738466\n",
      "799 2121.910765958292 0.1285105525235088\n",
      "sigma2:  159.642432030074  lam:  1.3985514648650894\n"
     ]
    }
   ],
   "source": [
    "# stage 1: optimize the transport\n",
    "for t in range(opt_steps):\n",
    "\n",
    "    beta =  torch.rand([batch_size, total_param]).to(device)\n",
    "\n",
    "    Loglik_list = list()\n",
    "    z_list = list()\n",
    "\n",
    "    for k in range(K):\n",
    "\n",
    "        flow = flow_list[k]\n",
    "        z_cad, logdetJ = flow.f(beta)\n",
    "        \n",
    "        l, z, w, b,sigma2,lam, alpha,_ = loglik(z_cad)\n",
    "        \n",
    "        Loglik_list.append(l +logdetJ + torch.log(flow_pi(z_cad)[:,k]))\n",
    "\n",
    "    g = - torch.logsumexp(torch.stack(Loglik_list), dim=0) + log_reference(beta)\n",
    "\n",
    "    loss =  g.mean() \n",
    "\n",
    "    softplus =  torch.nn.functional.softplus\n",
    "\n",
    "    if (t+1)%500==0:\n",
    "        print(t, loss.item(),  (g.std()/g.mean().abs()).item())\n",
    "        print(\"sigma2: \", sigma2.mean().item(), \" lam: \",lam.mean().item())\n",
    "\n",
    "    if loss.item()< best_loss:\n",
    "        best_model= copy.deepcopy([flow_list , flow_pi])\n",
    "        best_loss = loss.item()\n",
    "\n",
    "    if np.isnan(loss.cpu().data.numpy()):    \n",
    "        flow_list,flow_pi = best_model\n",
    "\n",
    "    optimizer.zero_grad()\n",
    "    loss.backward(retain_graph=True)\n",
    "    optimizer.step()"
   ]
  },
  {
   "cell_type": "code",
   "execution_count": null,
   "metadata": {},
   "outputs": [],
   "source": [
    "z_cad, logdetJ = best_model[0][0].f(beta)\n",
    "l, z, w, b,sigma2,lam, alpha,theta = loglik(z_cad, drawTheta=True)"
   ]
  },
  {
   "cell_type": "code",
   "execution_count": null,
   "metadata": {},
   "outputs": [],
   "source": [
    "plt.plot(theta[0].detach().cpu().numpy())"
   ]
  },
  {
   "cell_type": "code",
   "execution_count": null,
   "metadata": {},
   "outputs": [],
   "source": [
    "plt.plot(w0.detach().cpu().numpy())"
   ]
  },
  {
   "cell_type": "code",
   "execution_count": null,
   "metadata": {},
   "outputs": [],
   "source": [
    "eta.mean(0)"
   ]
  },
  {
   "cell_type": "code",
   "execution_count": null,
   "metadata": {},
   "outputs": [],
   "source": [
    "y_fitted = (X@ eta.mean(0)).detach().cpu().numpy()\n",
    "\n",
    "plt.plot(y_np)\n",
    "plt.plot(y_fitted)"
   ]
  },
  {
   "cell_type": "code",
   "execution_count": null,
   "metadata": {},
   "outputs": [],
   "source": [
    "plt.scatter(y_np,y_fitted)"
   ]
  },
  {
   "cell_type": "code",
   "execution_count": null,
   "metadata": {},
   "outputs": [],
   "source": [
    "np.mean((y_np - y_fitted)**2)"
   ]
  },
  {
   "cell_type": "code",
   "execution_count": null,
   "metadata": {},
   "outputs": [],
   "source": [
    "plt.plot(y_np - y_fitted)"
   ]
  }
 ],
 "metadata": {
  "kernelspec": {
   "display_name": "Python 3",
   "language": "python",
   "name": "python3"
  },
  "language_info": {
   "codemirror_mode": {
    "name": "ipython",
    "version": 3
   },
   "file_extension": ".py",
   "mimetype": "text/x-python",
   "name": "python",
   "nbconvert_exporter": "python",
   "pygments_lexer": "ipython3",
   "version": "3.7.5"
  }
 },
 "nbformat": 4,
 "nbformat_minor": 4
}
