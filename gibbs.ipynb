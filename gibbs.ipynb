{
 "cells": [
  {
   "cell_type": "code",
   "execution_count": 1,
   "metadata": {},
   "outputs": [],
   "source": [
    "import numpy as np\n",
    "import matplotlib.pylab as plt"
   ]
  },
  {
   "cell_type": "code",
   "execution_count": 2,
   "metadata": {},
   "outputs": [],
   "source": [
    "from tqdm.notebook import trange\n"
   ]
  },
  {
   "cell_type": "code",
   "execution_count": 3,
   "metadata": {},
   "outputs": [],
   "source": [
    "n = 1000\n",
    "p = n\n",
    "d= 3"
   ]
  },
  {
   "cell_type": "code",
   "execution_count": 4,
   "metadata": {},
   "outputs": [],
   "source": [
    "idx = np.round(np.linspace(0,n,num=(d+2))[1:(d+1)])\n",
    "\n",
    "idx\n",
    "\n",
    "X= np.zeros([n,n])\n",
    "for i in range(n):\n",
    "    for j in range(0,i):\n",
    "        X[i,j] = np.abs(j-i)+1\n",
    "\n",
    "X[:,0]=1\n",
    "\n",
    "idx = np.round(np.linspace(0,n,num=(d+2))[1:(d+1)]).astype('int')\n",
    "\n",
    "w0 = np.zeros([p])\n",
    "w0[idx] = np.random.randn(d)+5\n",
    "psi = X@w0\n",
    "\n",
    "\n",
    "y = psi + np.random.randn(n) *1\n"
   ]
  },
  {
   "cell_type": "code",
   "execution_count": 5,
   "metadata": {},
   "outputs": [
    {
     "data": {
      "text/plain": [
       "[<matplotlib.lines.Line2D at 0x7febac2fb490>]"
      ]
     },
     "execution_count": 5,
     "metadata": {},
     "output_type": "execute_result"
    },
    {
     "data": {
      "image/png": "[encoded data removed]",
      "text/plain": [
       "<Figure size 432x288 with 1 Axes>"
      ]
     },
     "metadata": {
      "needs_background": "light"
     },
     "output_type": "display_data"
    }
   ],
   "source": [
    "plt.plot(y)"
   ]
  },
  {
   "cell_type": "code",
   "execution_count": 6,
   "metadata": {},
   "outputs": [],
   "source": [
    "X2 = X.T@X"
   ]
  },
  {
   "cell_type": "code",
   "execution_count": 7,
   "metadata": {},
   "outputs": [],
   "source": [
    "Xy = X.T@y"
   ]
  },
  {
   "cell_type": "code",
   "execution_count": 8,
   "metadata": {},
   "outputs": [],
   "source": [
    "Q,Lam,_ = np.linalg.svd(X2)"
   ]
  },
  {
   "cell_type": "code",
   "execution_count": 9,
   "metadata": {},
   "outputs": [],
   "source": [
    "Lam = Lam[:(p-1)]\n",
    "Q = Q[:,:(p-1)]"
   ]
  },
  {
   "cell_type": "code",
   "execution_count": 10,
   "metadata": {},
   "outputs": [],
   "source": [
    "alpha = 10\n",
    "\n",
    "theta =  np.linalg.solve(X2+np.eye(p),Xy) \n",
    "\n",
    "sigma2 = np.sum((y-X@theta)**2)/n\n",
    "\n",
    "mu = np.random.uniform(0,1,1)\n",
    "lam = np.random.uniform(0,1,p)*10\n",
    "\n",
    "slab_indicator = (theta!=0)"
   ]
  },
  {
   "cell_type": "code",
   "execution_count": null,
   "metadata": {},
   "outputs": [],
   "source": [
    "plt.plot(theta)"
   ]
  },
  {
   "cell_type": "code",
   "execution_count": null,
   "metadata": {},
   "outputs": [],
   "source": [
    "def Sample_a(theta,lam,sigma2,alpha ,slab_indicator):\n",
    "    #inverse gaussain\n",
    "    \n",
    "    lam_tilde = 1./(1/lam+ 1/alpha)\n",
    "    \n",
    "    a = np.zeros(p)\n",
    "    zero_idx = np.logical_not(slab_indicator)#np.abs(theta)==0\n",
    "    non_zero_idx = slab_indicator #np.logical_not(zero_idx)\n",
    "\n",
    "    if(np.sum(non_zero_idx)>0):\n",
    "        ig_m = lam_tilde[non_zero_idx]* np.sqrt(sigma2)/ np.abs(theta[non_zero_idx])\n",
    "        a[non_zero_idx] = 1/np.random.wald(ig_m, 1,np.sum(non_zero_idx) )\n",
    "\n",
    "    a[zero_idx] = np.random.gamma(0.5,1/0.5, np.sum(zero_idx))\n",
    "    return a"
   ]
  },
  {
   "cell_type": "code",
   "execution_count": null,
   "metadata": {},
   "outputs": [],
   "source": [
    "def inverse_gaussian_density(a, theta,lam,sigma , alpha):\n",
    "    \n",
    "    return  -np.log(2*np.pi)/2 - np.log(a)/2 - a* ( np.abs(theta)/a - lam*sigma)**2/2/(lam*sigma)**2"
   ]
  },
  {
   "cell_type": "code",
   "execution_count": null,
   "metadata": {},
   "outputs": [],
   "source": [
    "def a_density(a, theta,lam,sigma2, alpha):\n",
    "    \n",
    "    lam_tilde = 1./(1/lam+ 1/alpha)\n",
    "\n",
    "    return  - np.log(a)/2 - theta**2/lam_tilde**2/2/sigma2/a - a/2"
   ]
  },
  {
   "cell_type": "code",
   "execution_count": null,
   "metadata": {},
   "outputs": [],
   "source": [
    "def SampleSlabIndicator(mu,lam,a,theta,sigma2,alpha,slab_indicator,eps=1E-3):\n",
    "\n",
    "\n",
    "    p_slab = -mu/lam/np.sqrt(sigma2)\n",
    "    p_spike = np.log(-np.expm1(p_slab))\n",
    "    \n",
    "    sigma = np.sqrt(sigma2)\n",
    "    \n",
    "    w1 = p_spike+ a_density(eps,theta,lam,sigma2,alpha) \n",
    "    w2 = p_slab + a_density(a,theta,lam,sigma2,alpha)\n",
    "\n",
    "    slab = np.argmax(np.vstack([w1,w2]) + np.random.gumbel(0,1,[2,p]),0) ==1\n",
    "    \n",
    "    if (np.random.uniform(0,1,1)< slab.sum()/slab_indicator.sum()):\n",
    "        s = slab\n",
    "    else:\n",
    "        s= slab_indicator\n",
    "\n",
    "    return s"
   ]
  },
  {
   "cell_type": "code",
   "execution_count": null,
   "metadata": {},
   "outputs": [],
   "source": [
    "def SampleTheta(lam, a, sigma2, slab_indicator,alpha):\n",
    "\n",
    "    lam_tilde = 1./(1/lam+ 1/alpha)\n",
    "    \n",
    "    a_star = np.zeros(p)\n",
    "\n",
    "    a_star[slab_indicator]= a[slab_indicator]\n",
    "\n",
    "    a_starlam = np.diag(a_star*lam_tilde**2)\n",
    "\n",
    "    theta = np.zeros(p)\n",
    "\n",
    "    if(np.sum(slab_indicator)>0):\n",
    "    \n",
    "        a_starlam_sub_inv = np.diag(1/ (a_star[slab_indicator]*lam_tilde[slab_indicator]**2))\n",
    "        A = (X2[slab_indicator][:,slab_indicator] + a_starlam_sub_inv)\n",
    "        theta0 = np.random.randn(slab_indicator.sum())\n",
    "#         A_inv = np.linalg.inv(A)\n",
    "#         theta[slab_indicator] = np.linalg.cholesky(A_inv) @theta0 * np.sqrt(sigma2) + A_inv@Xy[slab_indicator]\n",
    "        LA = np.linalg.cholesky(A)\n",
    "#         theta[slab_indicator] = np.linalg.inv(LA.T) @theta0 * np.sqrt(sigma2) + A_inv@Xy[slab_indicator]\n",
    "\n",
    "        #  A = LA @LA.T   ==>.  A^{-1} = LA.T^{-1} LA^{-1}\n",
    "        theta[slab_indicator] = np.linalg.solve(LA.T,theta0)     * np.sqrt(sigma2) + np.linalg.solve(LA.T, np.linalg.solve(LA, Xy[slab_indicator] ))\n",
    "    \n",
    "    \n",
    "    return theta"
   ]
  },
  {
   "cell_type": "code",
   "execution_count": null,
   "metadata": {},
   "outputs": [],
   "source": []
  },
  {
   "cell_type": "code",
   "execution_count": null,
   "metadata": {},
   "outputs": [],
   "source": [
    "# lam_tilde = 1./(1/lam+ 1/alpha)\n",
    "\n",
    "# a_star = np.zeros(p)\n",
    "\n",
    "# a_star[slab_indicator]= a[slab_indicator]\n",
    "\n",
    "# a_starlam = np.diag(a_star*lam_tilde**2)\n",
    "\n",
    "# theta = np.zeros(p)\n",
    "\n",
    "# a_starlam_sub_inv = np.diag(1/ (a_star[slab_indicator]*lam_tilde[slab_indicator]**2))\n",
    "# A = (X2[slab_indicator][:,slab_indicator] + a_starlam_sub_inv)\n",
    "# theta0 = np.random.randn(slab_indicator.sum())\n",
    "# #         A_inv = np.linalg.inv(A)\n",
    "# #         theta[slab_indicator] = np.linalg.cholesky(A_inv) @theta0 * np.sqrt(sigma2) + A_inv@Xy[slab_indicator]\n",
    "# LA = np.linalg.cholesky(A)"
   ]
  },
  {
   "cell_type": "code",
   "execution_count": null,
   "metadata": {},
   "outputs": [],
   "source": [
    "# A"
   ]
  },
  {
   "cell_type": "code",
   "execution_count": null,
   "metadata": {},
   "outputs": [],
   "source": []
  },
  {
   "cell_type": "code",
   "execution_count": null,
   "metadata": {},
   "outputs": [],
   "source": [
    "def ExpCDF(x,lam):\n",
    "    return 1- np.exp(-x/lam)\n",
    "\n",
    "def ExpInvCDF(y,lam):\n",
    "    return  -np.log1p(-y)*lam"
   ]
  },
  {
   "cell_type": "code",
   "execution_count": null,
   "metadata": {},
   "outputs": [],
   "source": [
    "def GenLowTruncExpo(m,a):\n",
    "\n",
    "    lb = ExpCDF(a,m)\n",
    "  \n",
    "    if lb< (1- 1E-2):\n",
    "        x = ExpInvCDF ( (1- lb)* np.random.uniform(0,1,1)+lb, m )\n",
    "    else:\n",
    "        x = a\n",
    "        \n",
    "    return x\n",
    "    "
   ]
  },
  {
   "cell_type": "code",
   "execution_count": null,
   "metadata": {},
   "outputs": [],
   "source": []
  },
  {
   "cell_type": "code",
   "execution_count": null,
   "metadata": {},
   "outputs": [],
   "source": []
  },
  {
   "cell_type": "code",
   "execution_count": null,
   "metadata": {},
   "outputs": [],
   "source": []
  },
  {
   "cell_type": "code",
   "execution_count": null,
   "metadata": {},
   "outputs": [],
   "source": []
  },
  {
   "cell_type": "code",
   "execution_count": null,
   "metadata": {},
   "outputs": [],
   "source": [
    "def SampleT(mu, lam, slab_indicator, theta,sigma2):\n",
    "\n",
    "#     c = np.sum(slab_indicator)\n",
    "    m = lam *np.sqrt(sigma2)\n",
    "        \n",
    "    t = ExpInvCDF(ExpCDF(mu, m) * np.random.uniform(0,1,p), m) - mu\n",
    "    t[slab_indicator] = np.abs(theta)[slab_indicator]\n",
    "    return t"
   ]
  },
  {
   "cell_type": "code",
   "execution_count": null,
   "metadata": {},
   "outputs": [],
   "source": []
  },
  {
   "cell_type": "code",
   "execution_count": null,
   "metadata": {},
   "outputs": [],
   "source": [
    "def SampleLam(t,slab_indicator,mu,sigma2):\n",
    "    # lam prior: a,b\n",
    "    a = 1\n",
    "\n",
    "    b= 0.01\n",
    "\n",
    "\n",
    "    beta = (t+mu)\n",
    "    lam = 1/ np.random.gamma(a+1, 1/(beta/np.sqrt(sigma2)+ b ),p)\n",
    "    \n",
    "    \n",
    "    return lam"
   ]
  },
  {
   "cell_type": "code",
   "execution_count": null,
   "metadata": {},
   "outputs": [],
   "source": [
    "    ig_m = alpha* np.sqrt(sigma2)/ np.sum(np.abs(theta))\n",
    "    a_r = 1/np.random.wald(ig_m,1,1)"
   ]
  },
  {
   "cell_type": "code",
   "execution_count": null,
   "metadata": {},
   "outputs": [],
   "source": [
    "def SampleSigma2(theta, t,mu,lam, alpha, slab_indicator):\n",
    "    \n",
    "    beta = t+mu\n",
    "    \n",
    "    ig_m = lam* np.sqrt(sigma2)/ beta\n",
    "    a_beta = 1/np.random.wald(ig_m,1,p)\n",
    "    \n",
    "    ig_m = alpha* np.sqrt(sigma2)/ np.sum(np.abs(theta))\n",
    "    a_r = 1/np.random.wald(ig_m,1,1)\n",
    "    \n",
    "\n",
    "    #approximation\n",
    "    b1 = np.sum((y-X@theta)**2)/2 + np.sum(beta**2/lam**2/a_beta)/2  + (np.sum(np.abs(theta))**2/alpha**2/a_r)/2\n",
    "    a1 = n/2  + p/2 + 1.0/2.0 + 0.5 #0.5 is the jefferey's prior sigma^-0.5\n",
    "\n",
    "    return 1/np.random.gamma(a1, 1/b1,1)"
   ]
  },
  {
   "cell_type": "code",
   "execution_count": null,
   "metadata": {},
   "outputs": [],
   "source": [
    "def SampleMu(sigma2,w, eps = 1E-3):\n",
    "\n",
    "    def ComputeMu(w ,sigma2):\n",
    "\n",
    "        a=1\n",
    "        b= 0.01 * np.sqrt(sigma2)\n",
    "\n",
    "    #         n_sim = int(1E6)\n",
    "    #         mu = np.quantile(np.random.exponential(scale=1.0,size =n_sim)/ np.random.gamma(a,1./b, n_sim), 1-w)* np.sqrt(sigma2)\n",
    "\n",
    "        mu = (w** (-1.0/a) -1)*b\n",
    "\n",
    "        return mu\n",
    "\n",
    "\n",
    "\n",
    "    def Compute_h_w(w):\n",
    "\n",
    "        mu = ComputeMu(w, sigma2)\n",
    "\n",
    "        p_slab = -mu/lam/np.sqrt(sigma2)\n",
    "        p_spike = np.log(-np.expm1(p_slab))\n",
    "\n",
    "        return (p_slab *slab_indicator + p_spike* (1.0-slab_indicator)).sum() +  (p**1.1-1)*np.log(1.0-w) #prior w\\sim Beta(1,p^1.1)\n",
    "\n",
    "#     while w_new <0:\n",
    "#         w_new = w + np.random.uniform(- eps, eps,1)[0]\n",
    "    \n",
    "    forward_lb = np.max( [ w- eps,0])\n",
    "    forward_ub = np.min( [ w+ eps,1])\n",
    "    forward_density =  -np.log(forward_ub-forward_lb)\n",
    "    \n",
    "    w_new=  np.random.uniform(forward_lb, forward_ub,1)[0]\n",
    "    \n",
    "    backward_lb = np.max( [ w_new- eps,0])\n",
    "    backward_ub = np.min( [ w_new+ eps,1])\n",
    "    backward_density =  -np.log(backward_ub-backward_lb)\n",
    "\n",
    "    if np.log(np.random.uniform(0,1,1)) < Compute_h_w(w_new)+backward_density - Compute_h_w(w)-forward_density:\n",
    "        w = w_new\n",
    "        accept = 1\n",
    "    else:\n",
    "        accept = 0\n",
    "        \n",
    "    mu = ComputeMu(w ,sigma2)\n",
    "    return w, mu"
   ]
  },
  {
   "cell_type": "code",
   "execution_count": null,
   "metadata": {},
   "outputs": [],
   "source": [
    "trace_theta=[]\n",
    "\n",
    "trace_slab=[]"
   ]
  },
  {
   "cell_type": "code",
   "execution_count": null,
   "metadata": {},
   "outputs": [],
   "source": []
  },
  {
   "cell_type": "code",
   "execution_count": null,
   "metadata": {},
   "outputs": [],
   "source": []
  },
  {
   "cell_type": "code",
   "execution_count": null,
   "metadata": {},
   "outputs": [],
   "source": [
    "sigma= 0.1\n",
    "w = 1./p"
   ]
  },
  {
   "cell_type": "code",
   "execution_count": null,
   "metadata": {},
   "outputs": [],
   "source": [
    "for k in range(10000):\n",
    "\n",
    "    a=  Sample_a(theta,lam,sigma2,alpha ,slab_indicator)\n",
    "    \n",
    "    slab_indicator= SampleSlabIndicator(mu,lam,a,theta,sigma2,alpha,slab_indicator,eps=1E-3)\n",
    "    \n",
    "    w,mu = SampleMu(sigma2,w, eps = 1E-3)    \n",
    "    \n",
    "    t = SampleT(mu, lam, slab_indicator, theta,sigma2)\n",
    "\n",
    "    \n",
    "    theta = SampleTheta(lam, a, sigma2, slab_indicator,alpha)\n",
    "\n",
    "    lam = SampleLam(t,slab_indicator,mu,sigma2)\n",
    "    sigma2 = SampleSigma2(theta, t,mu,lam, alpha, slab_indicator)\n",
    "    \n",
    "    if k>5000:\n",
    "        trace_theta.append(theta)\n",
    "        trace_slab.append(slab_indicator)\n",
    "\n",
    "    if (k+1)%1000==0:\n",
    "        print(k)\n",
    "        print(slab_indicator.sum())\n",
    "\n"
   ]
  },
  {
   "cell_type": "code",
   "execution_count": null,
   "metadata": {},
   "outputs": [],
   "source": []
  },
  {
   "cell_type": "code",
   "execution_count": null,
   "metadata": {},
   "outputs": [],
   "source": [
    "plt.plot(theta)"
   ]
  },
  {
   "cell_type": "code",
   "execution_count": null,
   "metadata": {},
   "outputs": [],
   "source": [
    "plt.plot(theta)\n",
    "plt.plot(w0)"
   ]
  },
  {
   "cell_type": "code",
   "execution_count": null,
   "metadata": {},
   "outputs": [],
   "source": [
    "slab_indicator.sum()"
   ]
  },
  {
   "cell_type": "code",
   "execution_count": null,
   "metadata": {},
   "outputs": [],
   "source": [
    "theta_mat = np.vstack(trace_theta)\n",
    "slab_mat = np.vstack(trace_slab)"
   ]
  },
  {
   "cell_type": "code",
   "execution_count": null,
   "metadata": {},
   "outputs": [],
   "source": []
  },
  {
   "cell_type": "code",
   "execution_count": null,
   "metadata": {},
   "outputs": [],
   "source": [
    "plt.plot(slab_mat.mean(0))"
   ]
  },
  {
   "cell_type": "code",
   "execution_count": null,
   "metadata": {},
   "outputs": [],
   "source": [
    "slab_indicator.sum()"
   ]
  },
  {
   "cell_type": "code",
   "execution_count": null,
   "metadata": {},
   "outputs": [],
   "source": []
  },
  {
   "cell_type": "code",
   "execution_count": null,
   "metadata": {},
   "outputs": [],
   "source": [
    "from statsmodels.tsa.stattools import acf"
   ]
  },
  {
   "cell_type": "code",
   "execution_count": null,
   "metadata": {},
   "outputs": [],
   "source": [
    "plt.plot(theta)"
   ]
  },
  {
   "cell_type": "code",
   "execution_count": null,
   "metadata": {},
   "outputs": [],
   "source": [
    "sigma2"
   ]
  },
  {
   "cell_type": "code",
   "execution_count": null,
   "metadata": {},
   "outputs": [],
   "source": [
    "plt.plot(theta_mat.mean(0))"
   ]
  },
  {
   "cell_type": "code",
   "execution_count": null,
   "metadata": {},
   "outputs": [],
   "source": [
    "plt.plot(theta_mat.std(0))"
   ]
  },
  {
   "cell_type": "code",
   "execution_count": null,
   "metadata": {},
   "outputs": [],
   "source": [
    "# plt.plot((theta_mat!=0).sum(1))"
   ]
  },
  {
   "cell_type": "code",
   "execution_count": null,
   "metadata": {},
   "outputs": [],
   "source": [
    "plt.plot((theta_mat[:,3]))"
   ]
  },
  {
   "cell_type": "code",
   "execution_count": null,
   "metadata": {},
   "outputs": [],
   "source": [
    "plt.plot((theta_mat[:,idx[1]]))"
   ]
  },
  {
   "cell_type": "code",
   "execution_count": null,
   "metadata": {},
   "outputs": [],
   "source": [
    "plt.plot(acf(theta_mat[:,idx[0]]))\n",
    "plt.plot(acf(theta_mat[:,idx[1]]))\n",
    "plt.plot(acf(theta_mat[:,idx[2]]))"
   ]
  },
  {
   "cell_type": "code",
   "execution_count": null,
   "metadata": {},
   "outputs": [],
   "source": [
    "sigma2"
   ]
  },
  {
   "cell_type": "code",
   "execution_count": null,
   "metadata": {},
   "outputs": [],
   "source": [
    "plt.plot(y)\n",
    "plt.plot(X@theta)"
   ]
  },
  {
   "cell_type": "code",
   "execution_count": null,
   "metadata": {},
   "outputs": [],
   "source": [
    "plt.plot(theta)"
   ]
  },
  {
   "cell_type": "code",
   "execution_count": null,
   "metadata": {},
   "outputs": [],
   "source": [
    "plt.plot(lam)"
   ]
  },
  {
   "cell_type": "code",
   "execution_count": null,
   "metadata": {},
   "outputs": [],
   "source": [
    "t.min()"
   ]
  },
  {
   "cell_type": "code",
   "execution_count": null,
   "metadata": {},
   "outputs": [],
   "source": [
    "mu"
   ]
  },
  {
   "cell_type": "code",
   "execution_count": null,
   "metadata": {},
   "outputs": [],
   "source": []
  },
  {
   "cell_type": "code",
   "execution_count": null,
   "metadata": {},
   "outputs": [],
   "source": [
    "plt.plot(theta)"
   ]
  },
  {
   "cell_type": "code",
   "execution_count": null,
   "metadata": {},
   "outputs": [],
   "source": [
    "plt.plot(theta)"
   ]
  }
 ],
 "metadata": {
  "kernelspec": {
   "display_name": "Python 3",
   "language": "python",
   "name": "python3"
  },
  "language_info": {
   "codemirror_mode": {
    "name": "ipython",
    "version": 3
   },
   "file_extension": ".py",
   "mimetype": "text/x-python",
   "name": "python",
   "nbconvert_exporter": "python",
   "pygments_lexer": "ipython3",
   "version": "3.7.7"
  }
 },
 "nbformat": 4,
 "nbformat_minor": 4
}
